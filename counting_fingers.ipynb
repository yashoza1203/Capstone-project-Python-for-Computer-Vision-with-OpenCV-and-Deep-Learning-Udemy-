{
 "cells": [
  {
   "cell_type": "code",
   "execution_count": 1,
   "id": "f2d1f845",
   "metadata": {},
   "outputs": [],
   "source": [
    "import cv2\n",
    "import numpy as np\n",
    "#used for distance calculation\n",
    "from sklearn.metrics import pairwise"
   ]
  },
  {
   "cell_type": "markdown",
   "id": "de6d19cd",
   "metadata": {},
   "source": [
    "## GLOBAL VARIABLES"
   ]
  },
  {
   "cell_type": "code",
   "execution_count": 2,
   "id": "13be5834",
   "metadata": {},
   "outputs": [],
   "source": [
    "# This background will be a global variable that we update through a few functions\n",
    "background=None\n",
    "accumulated_weight = 0.5\n",
    "\n",
    "#Manually set up our ROI for grabbing the hand\n",
    "#corners of the rectangle \n",
    "ROI_top=20\n",
    "ROI_bottom=300\n",
    "ROI_right=300\n",
    "ROI_left=600"
   ]
  },
  {
   "cell_type": "markdown",
   "id": "df2c17d9",
   "metadata": {},
   "source": [
    "## Finding Average Background Value"
   ]
  },
  {
   "cell_type": "code",
   "execution_count": 3,
   "id": "103c0ba1",
   "metadata": {},
   "outputs": [],
   "source": [
    "#function to find average background value\n",
    "def calc_accum_avg(frame,accumulated_weight):\n",
    "    global background\n",
    "    \n",
    "    #creating the background from a copy of the frame\n",
    "    if background is None:\n",
    "        background=frame.copy().astype(\"float\")\n",
    "        return None\n",
    "    #computing the weighted average,accumulate it and update the background\n",
    "    cv2.accumulateWeighted(frame,background,accumulated_weight) "
   ]
  },
  {
   "cell_type": "markdown",
   "id": "7d6af8f0",
   "metadata": {},
   "source": [
    "## Segment the hand region in frame"
   ]
  },
  {
   "cell_type": "code",
   "execution_count": 4,
   "id": "2eda3ff4",
   "metadata": {},
   "outputs": [],
   "source": [
    "def segment(frame,threshold = 34):\n",
    "    global background\n",
    "    \n",
    "    #calculating the Absolute difference between the background and the passed in frame\n",
    "    diff = cv2.absdiff(background.astype(\"uint8\"),frame)\n",
    "    \n",
    "    #Applying a threshold to the image so we can grab the foreground\n",
    "    ret,thresholded = cv2.threshold(diff,threshold,255,cv2.THRESH_BINARY)\n",
    "    \n",
    "    #grabbing the external contours from the image\n",
    "    contours,hierarchy = cv2.findContours(thresholded.copy(),cv2.RETR_EXTERNAL,cv2.CHAIN_APPROX_SIMPLE)\n",
    "    \n",
    "    #returning None coz we didnt grab any contours \n",
    "    if len(contours) == 0:\n",
    "        return None\n",
    "    else:\n",
    "        #Assuming the largest external contour in roi is the hand\n",
    "        #This will be our segment\n",
    "        hand_segment = max(contours,key=cv2.contourArea)\n",
    "        \n",
    "        #returning the hand segment and the thresolded hand image\n",
    "        return (thresholded,hand_segment)"
   ]
  },
  {
   "cell_type": "markdown",
   "id": "3cf7454e",
   "metadata": {},
   "source": [
    "## Counting Fingers with a convex hull\n",
    "https://docs.opencv.org/3.4/dd/d49/tutorial_py_contour_features.html#:~:text=5.-,Convex%20Hull,-Convex%20Hull%20will\n",
    "\n",
    "Refer the Above link for more info on convex hull"
   ]
  },
  {
   "cell_type": "code",
   "execution_count": 5,
   "id": "648965f3",
   "metadata": {},
   "outputs": [],
   "source": [
    "def count_fingers(thresholded,hand_segment):\n",
    "    \n",
    "    #calculated the convex hull of the hand segment\n",
    "    conv_hull=cv2.convexHull(hand_segment)\n",
    "    \n",
    "    #finding the top,bottom,left,right and making sure that they are in a tuple format\n",
    "    top   =tuple(conv_hull[conv_hull[:,:,1].argmin()][0])\n",
    "    bottom=tuple(conv_hull[conv_hull[:,:,1].argmax()][0])\n",
    "    left  =tuple(conv_hull[conv_hull[:,:,0].argmin()][0])\n",
    "    right =tuple(conv_hull[conv_hull[:,:,0].argmax()][0])\n",
    "    \n",
    "    cX=(left[0]+right[0]) // 2 #0 coz the left and right is a tuple of x,y coordinates and we want the x coordinates for cX\n",
    "    cY=(top[1]+bottom[1]) // 2 #0 coz the top and bottom is a tuple of x,y coordinates and we want the y coordinate for cY\n",
    "    \n",
    "    #calculating the euclidean distance between the center of hand and left,right,top,bottom points\n",
    "    distance=pairwise.euclidean_distances([(cX,cY)],Y=[left,right,top,bottom])[0]\n",
    "    \n",
    "    #grabbing the largest distance\n",
    "    max_distance=distance.max()\n",
    "    \n",
    "    #creating the circle with 75% radius of the max euclidean distance\n",
    "    radius=int(0.75*max_distance)#adjust the % according to ur hand size\n",
    "    circumference=(2*np.pi*radius)\n",
    "    \n",
    "    #grabbing roi of that circle\n",
    "    circular_roi=np.zeros(thresholded.shape[:2],dtype='uint8')\n",
    "    \n",
    "    #draw the circle\n",
    "    cv2.circle(circular_roi,(cX,cY),radius,255,10)\n",
    "    \n",
    "    #using bitwise AND with the circle ROI as a mask\n",
    "    circular_roi=cv2.bitwise_and(thresholded,thresholded,mask=circular_roi)\n",
    "    \n",
    "    #grabbing contours in circle ROI\n",
    "    contours,hierarchy=cv2.findContours(circular_roi.copy(),cv2.RETR_EXTERNAL,cv2.CHAIN_APPROX_NONE)\n",
    "    \n",
    "    #Finger count starts at 0\n",
    "    count=0\n",
    "    \n",
    "    # loop through the contours to see if we count any more fingers.\n",
    "    for cnt in contours:\n",
    "        # Bounding box of countour\n",
    "        (x,y,w,h)=cv2.boundingRect(cnt)\n",
    "#       Increment count of fingers based on two conditions\n",
    "        \n",
    "# 1. Contour region is not the very bottom of hand area (the wrist)\n",
    "        out_of_wrist=((cY+(cY*0.25)) > (y+h))\n",
    "    \n",
    "# 2. Number of points along the contour does not exceed 25% of the circumference of the circular ROI (otherwise we're counting points off the hand)\n",
    "        limit_points=((circumference*0.25)>cnt.shape[0])\n",
    "        \n",
    "        if out_of_wrist and limit_points:\n",
    "            count+=1\n",
    "    return count"
   ]
  },
  {
   "cell_type": "code",
   "execution_count": 6,
   "id": "b54bc556",
   "metadata": {},
   "outputs": [],
   "source": [
    "cam=cv2.VideoCapture(0)\n",
    "num_frames=0\n",
    "while True:\n",
    "    ret,frame=cam.read()\n",
    "    #flipping the frame so that its not in the mirros view\n",
    "    frame = cv2.flip(frame, 1)\n",
    "    frame_copy=frame.copy()\n",
    "    #grabbing roi from the frame\n",
    "    roi=frame[ROI_top:ROI_bottom,ROI_right:ROI_left]\n",
    "   \n",
    "    #Appy grayscale and blur to ROI\n",
    "    gray=cv2.cvtColor(roi,cv2.COLOR_BGR2GRAY)\n",
    "    gray=cv2.GaussianBlur(gray,(7,7),0)\n",
    "    \n",
    "# For the first 30 frames we will calculate the average of the background.\n",
    "    if num_frames<60:\n",
    "        calc_accum_avg(gray,accumulated_weight)\n",
    "        if num_frames<=59:\n",
    "            cv2.putText(frame_copy,'WAIT. GETTING BACKGROUND',(200,400),cv2.FONT_HERSHEY_TRIPLEX,1,(0,255,0),2)\n",
    "            cv2.imshow('FINGER COUNT',frame_copy)\n",
    "    else:\n",
    "        #segmenting the hand as we have the background\n",
    "        hand=segment(gray)\n",
    "        #checking if we are able to detect the hand\n",
    "        if hand is not None:\n",
    "            thresholded,hand_segment=hand\n",
    "            #draw contours around real hand in live stream\n",
    "            cv2.drawContours(frame_copy,[hand_segment+(ROI_right,ROI_top)],-1,(255,0,255),1)\n",
    "            #count the fingers\n",
    "            fingers=count_fingers(thresholded,hand_segment)\n",
    "            #display the count\n",
    "            cv2.putText(frame_copy,str(fingers),(70,50),cv2.FONT_HERSHEY_SCRIPT_COMPLEX,1,(0,0,255),2)\n",
    "            #Also disply the thresolded image\n",
    "            cv2.imshow('Thresholded',thresholded)\n",
    "\n",
    "    # Draw ROI Rectangle on frame copy\n",
    "    cv2.rectangle(frame_copy,(ROI_left,ROI_top),(ROI_right,ROI_bottom),(0,0,255),5)\n",
    "    #increment the number of frames for tracking\n",
    "    num_frames+=1\n",
    "    #disply the frame with segmented hand\n",
    "    cv2.imshow('Finger count',frame_copy)\n",
    "    \n",
    "    #closing the window with esc key\n",
    "    k=cv2.waitKey(1) & 0xFF\n",
    "    if k==27:\n",
    "        break\n",
    "        \n",
    "# Release the camera and destroy all the windows\n",
    "cam.release()\n",
    "cv2.destroyAllWindows()"
   ]
  }
 ],
 "metadata": {
  "kernelspec": {
   "display_name": "Python 3 (ipykernel)",
   "language": "python",
   "name": "python3"
  },
  "language_info": {
   "codemirror_mode": {
    "name": "ipython",
    "version": 3
   },
   "file_extension": ".py",
   "mimetype": "text/x-python",
   "name": "python",
   "nbconvert_exporter": "python",
   "pygments_lexer": "ipython3",
   "version": "3.9.7"
  }
 },
 "nbformat": 4,
 "nbformat_minor": 5
}
